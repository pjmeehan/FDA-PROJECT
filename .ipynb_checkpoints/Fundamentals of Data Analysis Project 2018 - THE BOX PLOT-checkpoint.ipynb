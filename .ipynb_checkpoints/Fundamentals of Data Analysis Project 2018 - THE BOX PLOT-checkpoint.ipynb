{
 "cells": [
  {
   "cell_type": "markdown",
   "metadata": {},
   "source": [
    "# Fundamentals of Data Analysis Project 2018 - THE BOX PLOT"
   ]
  },
  {
   "cell_type": "markdown",
   "metadata": {},
   "source": [
    "## This project has four objectives :\n",
    "\n",
    "1. Summarise the history of the box plot and situations in which it is used.\n",
    "2. Demonstrate the use of the box plot using data of your choosing.\n",
    "3. Explain any relevant terminology such as the terms quartile and percentile.\n",
    "4. Compare box plots to alternatives."
   ]
  },
  {
   "cell_type": "markdown",
   "metadata": {},
   "source": [
    "## The Box Plot\n",
    "***"
   ]
  },
  {
   "cell_type": "markdown",
   "metadata": {},
   "source": [
    "The box plot (also known as the box-and-whisker plot or the box-whisker plot) was created in 1970 by John Tukey, who many consider to be the father of exploratory data analysis.(1) An interesting fact about John Tukey is that he is credited with coining the terms *software* and *bit*. (2) He is also the brother in law of Francis Anscombe, who was the creator of the Anscombe quartet.(3). Tukey developed the box plot for several reasons, such as to broadly understand the data, to physically present data, to generate hypotheses and build models to guide research, to add robust measures to an analysis and to aid the researcher in finding the most appropriate method for analysis.(4) \n",
    "\n",
    "The boxplot is a \"Five Number Summary\" of a given data set and is a graphical visual based on these five numbers. The five numbers are :\n",
    "1. the *minimum* -  the lowest value value in the dataset.\n",
    "2. the *first quartile* - \n",
    "\n",
    "\n",
    "the first quartile, the median, the third quartile and the maximum.\n",
    "\n",
    "In today's world, the box plot is mainly used as a way to visualize data distribution. A real world example of the use of box plots came from scientists who tracked the coral coverage of the Great Barrier Reef over a period of 27 years.(6) The box plot was extremly useful in this study because it gave a very understandable picture of the reef's health decline over the 27 years."
   ]
  },
  {
   "cell_type": "code",
   "execution_count": null,
   "metadata": {},
   "outputs": [],
   "source": [
    "##References\n",
    "***\n",
    "1. https://flowingdata.com/2011/12/06/40-years-of-boxplots/\n",
    "2. https://community.jmp.com/t5/JMP-Blog/Celebrating-Statisticians-John-W-Tukey/ba-p/30349   \n",
    "3. https://community.jmp.com/t5/JMP-Blog/Celebrating-Statisticians-John-W-Tukey/ba-p/30349\n",
    "4. https://public.credoreference.com/content/topic/box_plot   \n",
    "5. https://chartio.com/resources/tutorials/what-is-a-box-plot/   \n",
    "6. https://www.ck12.org/statistics/applications-of-box-and-whisker-plots/rwa/Counting-Coral/    "
   ]
  }
 ],
 "metadata": {
  "kernelspec": {
   "display_name": "Python 3",
   "language": "python",
   "name": "python3"
  },
  "language_info": {
   "codemirror_mode": {
    "name": "ipython",
    "version": 3
   },
   "file_extension": ".py",
   "mimetype": "text/x-python",
   "name": "python",
   "nbconvert_exporter": "python",
   "pygments_lexer": "ipython3",
   "version": "3.6.5"
  }
 },
 "nbformat": 4,
 "nbformat_minor": 2
}
