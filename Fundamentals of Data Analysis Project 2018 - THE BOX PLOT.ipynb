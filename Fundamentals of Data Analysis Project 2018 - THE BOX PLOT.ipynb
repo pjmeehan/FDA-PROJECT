{
 "cells": [
  {
   "cell_type": "markdown",
   "metadata": {},
   "source": [
    "# Fundamentals of Data Analysis Project 2018 - THE BOX PLOT"
   ]
  },
  {
   "cell_type": "markdown",
   "metadata": {},
   "source": [
    "## This project has four objectives :\n",
    "\n",
    "1. Summarise the history of the box plot and situations in which it is used.\n",
    "2. Demonstrate the use of the box plot using data of your choosing.\n",
    "3. Explain any relevant terminology such as the terms quartile and percentile.\n",
    "4. Compare box plots to alternatives."
   ]
  },
  {
   "cell_type": "markdown",
   "metadata": {},
   "source": [
    "## The Box Plot\n",
    "***"
   ]
  },
  {
   "cell_type": "markdown",
   "metadata": {},
   "source": [
    "The box plot (also known as the box-and-whisker plot or the box-whisker plot) was created in 1970 by John Tukey, who many consider to be the father of exploratory data analysis.(1) An interesting fact about John Tukey is that he is credited with coining the terms *software* and *bit*. (2) He is also the brother in law of Francis Anscombe, who was the creator of the Anscombe quartet.(3). Tukey developed the box plot for several reasons, such as to broadly understand the data, to physically present data, to generate hypotheses and build models to guide research, to add robust measures to an analysis and to aid the researcher in finding the most appropriate method for analysis.(4) \n",
    "\n",
    "The boxplot is a \"Five Number Summary\" of a given data set and is a graphical visual based on these five numbers (5). The five numbers are :\n",
    "1. the *minimum* -  the smallest  value value in the data set.\n",
    "2. the *first quartile* - is the median of the lower half of the data set.\n",
    "3. the *median* - is the median value of the whole data set.\n",
    "4. the *third quartile* - is the median of the upper half of the data set.\n",
    "5. the *maximum* - is the largest value in the data set.\n",
    "\n",
    "In today's world, the box plot is mainly used as a way to visualize data distribution. A real world example of the use of box plots came from scientists who tracked the coral coverage of the Great Barrier Reef over a period of 27 years (1985 - 2012).(6) The box plot was extremly useful in this study because it gave a very understandable picture of the reef's health decline over the 27 years."
   ]
  },
  {
   "cell_type": "markdown",
   "metadata": {},
   "source": [
    "## The Box Plot Demonstration"
   ]
  },
  {
   "cell_type": "code",
   "execution_count": 29,
   "metadata": {},
   "outputs": [],
   "source": [
    "import numpy\n",
    "import pandas as pd\n",
    "import matplotlib.pyplot as plt\n",
    "import seaborn as sns\n",
    "%matplotlib inline"
   ]
  },
  {
   "cell_type": "code",
   "execution_count": 30,
   "metadata": {},
   "outputs": [],
   "source": [
    "import csv"
   ]
  },
  {
   "cell_type": "code",
   "execution_count": 31,
   "metadata": {},
   "outputs": [],
   "source": [
    "z = open(\"IREPop.csv\")"
   ]
  },
  {
   "cell_type": "markdown",
   "metadata": {},
   "source": [
    "To demonstrate the use of a box plot, I will use the population of the Republic of Ireland from 1851 through 2011 (7).\n",
    "*Note, the census was not taken every year*. It was taken in the following years :\n",
    "    "
   ]
  },
  {
   "cell_type": "code",
   "execution_count": 32,
   "metadata": {},
   "outputs": [
    {
     "data": {
      "text/html": [
       "<div>\n",
       "<style scoped>\n",
       "    .dataframe tbody tr th:only-of-type {\n",
       "        vertical-align: middle;\n",
       "    }\n",
       "\n",
       "    .dataframe tbody tr th {\n",
       "        vertical-align: top;\n",
       "    }\n",
       "\n",
       "    .dataframe thead th {\n",
       "        text-align: right;\n",
       "    }\n",
       "</style>\n",
       "<table border=\"1\" class=\"dataframe\">\n",
       "  <thead>\n",
       "    <tr style=\"text-align: right;\">\n",
       "      <th></th>\n",
       "      <th>Year</th>\n",
       "      <th>Total Population</th>\n",
       "      <th>Males</th>\n",
       "      <th>Females</th>\n",
       "      <th>No. Of females per 100 males</th>\n",
       "    </tr>\n",
       "  </thead>\n",
       "  <tbody>\n",
       "    <tr>\n",
       "      <th>0</th>\n",
       "      <td>1841</td>\n",
       "      <td>6,528,799</td>\n",
       "      <td>3,222,485</td>\n",
       "      <td>3,306,314</td>\n",
       "      <td>103</td>\n",
       "    </tr>\n",
       "    <tr>\n",
       "      <th>1</th>\n",
       "      <td>1851</td>\n",
       "      <td>5,111,557</td>\n",
       "      <td>2,494,478</td>\n",
       "      <td>2,617,079</td>\n",
       "      <td>105</td>\n",
       "    </tr>\n",
       "    <tr>\n",
       "      <th>2</th>\n",
       "      <td>1861</td>\n",
       "      <td>4,402,111</td>\n",
       "      <td>2,169,042</td>\n",
       "      <td>2,233,069</td>\n",
       "      <td>103</td>\n",
       "    </tr>\n",
       "    <tr>\n",
       "      <th>3</th>\n",
       "      <td>1871</td>\n",
       "      <td>4,053,187</td>\n",
       "      <td>1,992,468</td>\n",
       "      <td>2,060,719</td>\n",
       "      <td>103</td>\n",
       "    </tr>\n",
       "    <tr>\n",
       "      <th>4</th>\n",
       "      <td>1881</td>\n",
       "      <td>3,870,020</td>\n",
       "      <td>1,912,438</td>\n",
       "      <td>1,957,582</td>\n",
       "      <td>102</td>\n",
       "    </tr>\n",
       "    <tr>\n",
       "      <th>5</th>\n",
       "      <td>1891</td>\n",
       "      <td>3,468,694</td>\n",
       "      <td>1,728,601</td>\n",
       "      <td>1,740,093</td>\n",
       "      <td>101</td>\n",
       "    </tr>\n",
       "    <tr>\n",
       "      <th>6</th>\n",
       "      <td>1901</td>\n",
       "      <td>3,221,823</td>\n",
       "      <td>1,610,085</td>\n",
       "      <td>1,611,738</td>\n",
       "      <td>100</td>\n",
       "    </tr>\n",
       "    <tr>\n",
       "      <th>7</th>\n",
       "      <td>1911</td>\n",
       "      <td>3,139,688</td>\n",
       "      <td>1,589,509</td>\n",
       "      <td>1,550,179</td>\n",
       "      <td>98</td>\n",
       "    </tr>\n",
       "    <tr>\n",
       "      <th>8</th>\n",
       "      <td>1926</td>\n",
       "      <td>2,971,992</td>\n",
       "      <td>1,506,889</td>\n",
       "      <td>1,465,103</td>\n",
       "      <td>97</td>\n",
       "    </tr>\n",
       "    <tr>\n",
       "      <th>9</th>\n",
       "      <td>1936</td>\n",
       "      <td>2,968,420</td>\n",
       "      <td>1,520,454</td>\n",
       "      <td>1,447,966</td>\n",
       "      <td>95</td>\n",
       "    </tr>\n",
       "    <tr>\n",
       "      <th>10</th>\n",
       "      <td>1946</td>\n",
       "      <td>2,955,107</td>\n",
       "      <td>1,494,877</td>\n",
       "      <td>1,460,230</td>\n",
       "      <td>98</td>\n",
       "    </tr>\n",
       "    <tr>\n",
       "      <th>11</th>\n",
       "      <td>1951</td>\n",
       "      <td>2,960,593</td>\n",
       "      <td>1,506,597</td>\n",
       "      <td>1,453,996</td>\n",
       "      <td>97</td>\n",
       "    </tr>\n",
       "    <tr>\n",
       "      <th>12</th>\n",
       "      <td>1956</td>\n",
       "      <td>2,898,264</td>\n",
       "      <td>1,462,928</td>\n",
       "      <td>1,435,336</td>\n",
       "      <td>98</td>\n",
       "    </tr>\n",
       "    <tr>\n",
       "      <th>13</th>\n",
       "      <td>1961</td>\n",
       "      <td>2,818,341</td>\n",
       "      <td>1,416,549</td>\n",
       "      <td>1,401,792</td>\n",
       "      <td>99</td>\n",
       "    </tr>\n",
       "    <tr>\n",
       "      <th>14</th>\n",
       "      <td>1966</td>\n",
       "      <td>2,884,002</td>\n",
       "      <td>1,449,032</td>\n",
       "      <td>1,434,970</td>\n",
       "      <td>99</td>\n",
       "    </tr>\n",
       "    <tr>\n",
       "      <th>15</th>\n",
       "      <td>1971</td>\n",
       "      <td>2,978,248</td>\n",
       "      <td>1,495,760</td>\n",
       "      <td>1,482,488</td>\n",
       "      <td>99</td>\n",
       "    </tr>\n",
       "    <tr>\n",
       "      <th>16</th>\n",
       "      <td>1979</td>\n",
       "      <td>3,368,217</td>\n",
       "      <td>1,693,272</td>\n",
       "      <td>1,674,945</td>\n",
       "      <td>99</td>\n",
       "    </tr>\n",
       "    <tr>\n",
       "      <th>17</th>\n",
       "      <td>1981</td>\n",
       "      <td>3,443,405</td>\n",
       "      <td>1,729,354</td>\n",
       "      <td>1,714,051</td>\n",
       "      <td>99</td>\n",
       "    </tr>\n",
       "    <tr>\n",
       "      <th>18</th>\n",
       "      <td>1986</td>\n",
       "      <td>3,540,643</td>\n",
       "      <td>1,769,690</td>\n",
       "      <td>1,770,953</td>\n",
       "      <td>100</td>\n",
       "    </tr>\n",
       "    <tr>\n",
       "      <th>19</th>\n",
       "      <td>1991</td>\n",
       "      <td>3,525,719</td>\n",
       "      <td>1,753,418</td>\n",
       "      <td>1,772,301</td>\n",
       "      <td>101</td>\n",
       "    </tr>\n",
       "    <tr>\n",
       "      <th>20</th>\n",
       "      <td>1996</td>\n",
       "      <td>3,626,087</td>\n",
       "      <td>1,800,232</td>\n",
       "      <td>1,825,855</td>\n",
       "      <td>101</td>\n",
       "    </tr>\n",
       "    <tr>\n",
       "      <th>21</th>\n",
       "      <td>2002</td>\n",
       "      <td>3,917,203</td>\n",
       "      <td>1,946,164</td>\n",
       "      <td>1,971,039</td>\n",
       "      <td>101</td>\n",
       "    </tr>\n",
       "    <tr>\n",
       "      <th>22</th>\n",
       "      <td>2006</td>\n",
       "      <td>4,239,848</td>\n",
       "      <td>2,121,171</td>\n",
       "      <td>2,118,677</td>\n",
       "      <td>100</td>\n",
       "    </tr>\n",
       "    <tr>\n",
       "      <th>23</th>\n",
       "      <td>2011</td>\n",
       "      <td>4,588,252</td>\n",
       "      <td>2,272,699</td>\n",
       "      <td>2,315,553</td>\n",
       "      <td>102</td>\n",
       "    </tr>\n",
       "  </tbody>\n",
       "</table>\n",
       "</div>"
      ],
      "text/plain": [
       "    Year Total Population      Males    Females  No. Of females per 100 males\n",
       "0   1841        6,528,799  3,222,485  3,306,314                           103\n",
       "1   1851        5,111,557  2,494,478  2,617,079                           105\n",
       "2   1861        4,402,111  2,169,042  2,233,069                           103\n",
       "3   1871        4,053,187  1,992,468  2,060,719                           103\n",
       "4   1881        3,870,020  1,912,438  1,957,582                           102\n",
       "5   1891        3,468,694  1,728,601  1,740,093                           101\n",
       "6   1901        3,221,823  1,610,085  1,611,738                           100\n",
       "7   1911        3,139,688  1,589,509  1,550,179                            98\n",
       "8   1926        2,971,992  1,506,889  1,465,103                            97\n",
       "9   1936        2,968,420  1,520,454  1,447,966                            95\n",
       "10  1946        2,955,107  1,494,877  1,460,230                            98\n",
       "11  1951        2,960,593  1,506,597  1,453,996                            97\n",
       "12  1956        2,898,264  1,462,928  1,435,336                            98\n",
       "13  1961        2,818,341  1,416,549  1,401,792                            99\n",
       "14  1966        2,884,002  1,449,032  1,434,970                            99\n",
       "15  1971        2,978,248  1,495,760  1,482,488                            99\n",
       "16  1979        3,368,217  1,693,272  1,674,945                            99\n",
       "17  1981        3,443,405  1,729,354  1,714,051                            99\n",
       "18  1986        3,540,643  1,769,690  1,770,953                           100\n",
       "19  1991        3,525,719  1,753,418  1,772,301                           101\n",
       "20  1996        3,626,087  1,800,232  1,825,855                           101\n",
       "21  2002        3,917,203  1,946,164  1,971,039                           101\n",
       "22  2006        4,239,848  2,121,171  2,118,677                           100\n",
       "23  2011        4,588,252  2,272,699  2,315,553                           102"
      ]
     },
     "execution_count": 32,
     "metadata": {},
     "output_type": "execute_result"
    }
   ],
   "source": [
    "csv_z = csv.reader(z)\n",
    "df = pd.read_csv(\"IREPop.csv\")\n",
    "df.head(24)"
   ]
  },
  {
   "cell_type": "code",
   "execution_count": 33,
   "metadata": {},
   "outputs": [],
   "source": [
    "### refernce youtube video https://www.youtube.com/watch?v=RxvozehYAGs"
   ]
  },
  {
   "cell_type": "code",
   "execution_count": 38,
   "metadata": {},
   "outputs": [
    {
     "data": {
      "text/plain": [
       "Index(['Year', 'Total Population', 'Males', 'Females',\n",
       "       'No. Of females per 100 males'],\n",
       "      dtype='object')"
      ]
     },
     "execution_count": 38,
     "metadata": {},
     "output_type": "execute_result"
    }
   ],
   "source": [
    "df.columns"
   ]
  },
  {
   "cell_type": "code",
   "execution_count": 50,
   "metadata": {},
   "outputs": [
    {
     "name": "stdout",
     "output_type": "stream",
     "text": [
      "<class 'pandas.core.frame.DataFrame'>\n",
      "RangeIndex: 24 entries, 0 to 23\n",
      "Data columns (total 5 columns):\n",
      "Year                            24 non-null int64\n",
      "Total Population                24 non-null object\n",
      "Males                           24 non-null object\n",
      "Females                         24 non-null object\n",
      "No. Of females per 100 males    24 non-null int64\n",
      "dtypes: int64(2), object(3)\n",
      "memory usage: 1.0+ KB\n"
     ]
    }
   ],
   "source": [
    "df.info()"
   ]
  },
  {
   "cell_type": "code",
   "execution_count": null,
   "metadata": {},
   "outputs": [],
   "source": [
    "df = df.convert_objects(convert_numeric=True)"
   ]
  },
  {
   "cell_type": "code",
   "execution_count": 49,
   "metadata": {},
   "outputs": [
    {
     "data": {
      "image/png": "[encoded data removed]",
      "text/plain": [
       "<Figure size 432x288 with 1 Axes>"
      ]
     },
     "metadata": {},
     "output_type": "display_data"
    }
   ],
   "source": [
    "ax = sns.boxplot(data=df)\n"
   ]
  },
  {
   "cell_type": "code",
   "execution_count": null,
   "metadata": {},
   "outputs": [],
   "source": []
  },
  {
   "cell_type": "code",
   "execution_count": null,
   "metadata": {},
   "outputs": [],
   "source": []
  },
  {
   "cell_type": "code",
   "execution_count": null,
   "metadata": {},
   "outputs": [],
   "source": [
    "##References\n",
    "***\n",
    "1. https://flowingdata.com/2011/12/06/40-years-of-boxplots/\n",
    "2. https://community.jmp.com/t5/JMP-Blog/Celebrating-Statisticians-John-W-Tukey/ba-p/30349   \n",
    "3. https://community.jmp.com/t5/JMP-Blog/Celebrating-Statisticians-John-W-Tukey/ba-p/30349\n",
    "4. https://public.credoreference.com/content/topic/box_plot   \n",
    "5. https://chartio.com/resources/tutorials/what-is-a-box-plot/   \n",
    "6. https://www.ck12.org/statistics/applications-of-box-and-whisker-plots/rwa/Counting-Coral/  \n",
    "7. http://census.ie/in-history/population-of-ireland-1841-2006/"
   ]
  }
 ],
 "metadata": {
  "kernelspec": {
   "display_name": "Python 3",
   "language": "python",
   "name": "python3"
  },
  "language_info": {
   "codemirror_mode": {
    "name": "ipython",
    "version": 3
   },
   "file_extension": ".py",
   "mimetype": "text/x-python",
   "name": "python",
   "nbconvert_exporter": "python",
   "pygments_lexer": "ipython3",
   "version": "3.6.5"
  }
 },
 "nbformat": 4,
 "nbformat_minor": 2
}
