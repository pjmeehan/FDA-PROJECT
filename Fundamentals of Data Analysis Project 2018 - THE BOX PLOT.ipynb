{
 "cells": [
  {
   "cell_type": "markdown",
   "metadata": {},
   "source": [
    "# Fundamentals of Data Analysis Project 2018 - THE BOX PLOT"
   ]
  },
  {
   "cell_type": "markdown",
   "metadata": {},
   "source": [
    "## This project has four objectives :\n",
    "\n",
    "1. Summarise the history of the box plot and situations in which it is used.\n",
    "2. Demonstrate the use of the box plot using data of your choosing.\n",
    "3. Explain any relevant terminology such as the terms quartile and percentile.\n",
    "4. Compare box plots to alternatives."
   ]
  },
  {
   "cell_type": "markdown",
   "metadata": {},
   "source": [
    "## The Box Plot\n",
    "***"
   ]
  },
  {
   "cell_type": "markdown",
   "metadata": {},
   "source": [
    "The box plot (also known as the box-and-whisker plot or the box-whisker plot) was created in 1970 by John Tukey, who many consider to be the father of exploratory data analysis.(1) Tukey was an exceptional man that lead a prodigious life. He was a chemist, topologist, educator, consultant, information scientist, researcher, statistician, data analyst and an executive. He attained both B.Sc. and M.Sc. degrees at Brown University and M.A. and Ph.D. degrees at Princeton University. Tukey made a remarkable number of contributions to science, academia and industry and to his nation during a more than sixty year career. (A) An interesting fact about John Tukey is that he is credited with coining the terms *software* and *bit*. (2) He is also the brother in law of Francis Anscombe, who was the creator of the Anscombe quartet.(3). \n",
    "\n",
    "Tukey developed the box plot for several reasons, such as to broadly understand the data, to physically present data, to generate hypotheses and build models to guide research, to add robust measures to an analysis and to aid the researcher in finding the most appropriate method for analysis.(4) \n",
    "\n",
    "The boxplot is a \"Five Number Summary\" of a given data set and is a graphical visual based on five numbers (5). The five numbers are :\n",
    "1. the *minimum* -  the smallest  value value in the data set.\n",
    "2. the *first quartile (Q1)* - is the median of the lower half of the data set.\n",
    "3. the *median (Q2)* - is the median value of the whole data set.\n",
    "4. the *third quartile (Q3)* - is the median of the upper half of the data set.\n",
    "5. the *maximum* - is the largest value in the data set. <br>\n",
    "\n",
    "Some other box plot terms that should be mentioned are :\n",
    "\n",
    "*Interquartile Range (IQR)* - This is the area that lies inside the box (from Q1 to Q3).<br>\n",
    "*Outliers* - Are defined as being either lessor than 1.5 x IQR or greater than 1.5 x IQR. Outliers lie outside the range where we would expect them to lie. (5.55)\n",
    "\n",
    "*(please see the below image for a detailed description of a box plot)* (5.5)"
   ]
  },
  {
   "cell_type": "code",
   "execution_count": 4,
   "metadata": {},
   "outputs": [],
   "source": [
    "### Displaying an image of a boxplot with descriptions of the main parts."
   ]
  },
  {
   "cell_type": "code",
   "execution_count": 5,
   "metadata": {},
   "outputs": [
    {
     "ename": "TypeError",
     "evalue": "'Image' object is not callable",
     "output_type": "error",
     "traceback": [
      "\u001b[1;31m---------------------------------------------------------------------------\u001b[0m",
      "\u001b[1;31mTypeError\u001b[0m                                 Traceback (most recent call last)",
      "\u001b[1;32m<ipython-input-5-2d4510567a1f>\u001b[0m in \u001b[0;36m<module>\u001b[1;34m()\u001b[0m\n\u001b[0;32m      1\u001b[0m \u001b[1;32mfrom\u001b[0m \u001b[0mIPython\u001b[0m\u001b[1;33m.\u001b[0m\u001b[0mdisplay\u001b[0m \u001b[1;32mimport\u001b[0m \u001b[0mImage\u001b[0m\u001b[1;33m\u001b[0m\u001b[0m\n\u001b[1;32m----> 2\u001b[1;33m \u001b[0mImage\u001b[0m\u001b[1;33m(\u001b[0m\u001b[0mfilename\u001b[0m\u001b[1;33m=\u001b[0m\u001b[1;34m\"box plot image.png\"\u001b[0m\u001b[1;33m,\u001b[0m \u001b[0mwidth\u001b[0m\u001b[1;33m=\u001b[0m\u001b[1;36m750\u001b[0m\u001b[1;33m,\u001b[0m \u001b[0mheight\u001b[0m\u001b[1;33m=\u001b[0m\u001b[1;36m400\u001b[0m\u001b[1;33m)\u001b[0m \u001b[1;33m(\u001b[0m\u001b[1;36m5.6\u001b[0m\u001b[1;33m)\u001b[0m\u001b[1;33m\u001b[0m\u001b[0m\n\u001b[0m",
      "\u001b[1;31mTypeError\u001b[0m: 'Image' object is not callable"
     ]
    }
   ],
   "source": [
    "from IPython.display import Image\n",
    "Image(filename=\"box plot image.png\", width=750, height=400) (5.6)"
   ]
  },
  {
   "cell_type": "markdown",
   "metadata": {},
   "source": [
    "Box plots are used when there is a need to compare range and distribution for groups of numerical data.(C)\n",
    "\n",
    "In today's world, the box plot is mainly used as a way to visualize data distribution. A real world example of the use of box plots came from scientists who tracked the coral coverage of the Great Barrier Reef over a period of 27 years (1985 - 2012).(6) The box plot was extremly useful in this study because it gave a very understandable picture of the reef's health decline over the 27 years. Another example of the use of box plots in real life is in the paper \"Box plots and Radar Plots for Pharmaceutical Studies: Some of the Better Ways to get a clear Picture of Study Results\" by Mary Cowmeadow, Biostats Reports, Plymouth Michigan. (B). The paper is about finding a better way to to plot patient's lab results.\n",
    "\n",
    "These are just a couple of examples of how the box plot is used in today's world and there are far more industries such as manufacturing, medical, financial and academia that use box plots to aid them for everyday problems. Beverage bottling plants use box plots for quality control (D), the medical indusrty has used them to look at SIRD (severe idiopathic distress syndrome) in infants.(E) The financial indusrty uses box plots to compare performace amongst ETFs. (F) \n",
    "\n",
    "The box plot is a very good visual tool that allows for a quick study of the important numbers in a data set that contains may data points."
   ]
  },
  {
   "cell_type": "markdown",
   "metadata": {},
   "source": [
    "## The Box Plot Demonstration"
   ]
  },
  {
   "cell_type": "markdown",
   "metadata": {},
   "source": [
    "To demonstrate the use of a box plot, I will use the heights (measured in inches) and weights (measured in pounds) from the players of the New York Rangers, a team in the National Hockey League, from two different years to see if players are getting bigger.  The first dataset will be from the Rangers Stanley Cup winning season of 1994 and compare that to last season's (2018) team. I expect to see that height and weight will be greater for the 2018 team. 1994 was 24 years ago and since then the word has been that today's players are bigger. I'm not sure why, but if the box plots do indeed back this up, it would be worth exploring why they are bigger. Is it better training and nutrition? Or perhaps hockey is now available to more kids and thus the pool for NHL players is greater leading to more big players playing.<br>\n",
    "\n",
    "Lastly, this is just one team amongst 31 teams. A look across all players from 1994 vs 2018 would be a better dataset, however, I thought that a look at one team might provide some evidence of players getting bigger. Lets find out."
   ]
  },
  {
   "cell_type": "markdown",
   "metadata": {},
   "source": [
    "The demonstration of the actual box plots will be laid out in 4 different steps :\n",
    "\n",
    "1. I will display the rosters of both the 1994 team and the 2018 team using the NYR1994.csv and NYR2018 data sets.\n",
    "\n",
    "2. I will use box plots to display the Height (inches) of the 1994 team vs Height (inches) the 2018 team using the NYR1994.csv and NYR2018 data sets.\n",
    "\n",
    "3. I will use box plots to display the Weight (pounds) of the 1994 team vs Weight (pounds) of the 2018 team using the NYR1994.csv and NYR2018 data sets.\n",
    "\n",
    "4. I will use box plots to display the Height (inches) and Weight (pounds) of both the 1994 and 2018 teams combined using the NYR.csv data set.\n",
    "\n",
    "I will first compare the Heights and Weights of the 1994 team vs the 2018 team to see if there are any noticeable differences.\n",
    "Then, using the combined data set (NYR.csv) I will further breakdown the Height and Weights of the two different teams by looking at the data by position. I will do this by using 'Position' as my hue."
   ]
  },
  {
   "cell_type": "code",
   "execution_count": null,
   "metadata": {},
   "outputs": [],
   "source": [
    "### Import libraries I will use or potentially use."
   ]
  },
  {
   "cell_type": "code",
   "execution_count": 21,
   "metadata": {},
   "outputs": [],
   "source": [
    "import numpy\n",
    "import pandas as pd\n",
    "import matplotlib.pyplot as plt\n",
    "import seaborn as sns\n",
    "%matplotlib inline"
   ]
  },
  {
   "cell_type": "code",
   "execution_count": 22,
   "metadata": {},
   "outputs": [],
   "source": [
    "###  CSV module is a built-in function that allows Python to parse these csv types of files. "
   ]
  },
  {
   "cell_type": "code",
   "execution_count": 23,
   "metadata": {},
   "outputs": [],
   "source": [
    "import csv"
   ]
  },
  {
   "cell_type": "code",
   "execution_count": 24,
   "metadata": {},
   "outputs": [],
   "source": [
    "### use open function to open the file with the data. I'll use this for all three data sets."
   ]
  },
  {
   "cell_type": "code",
   "execution_count": 25,
   "metadata": {},
   "outputs": [],
   "source": [
    "a = open(\"NYR1994.csv\") \n",
    "b = open(\"NYR2018.csv\")\n",
    "c = open(\"NYR.csv\")"
   ]
  },
  {
   "cell_type": "markdown",
   "metadata": {},
   "source": [
    "### 1994 New York Rangers \n",
    "***"
   ]
  },
  {
   "cell_type": "code",
   "execution_count": 26,
   "metadata": {},
   "outputs": [],
   "source": [
    "### use the reader function to allow iteration over each row in the data set.\n",
    "### First, I'll start with the 1994 team. Below is the data set displayed by using the df.head() function."
   ]
  },
  {
   "cell_type": "code",
   "execution_count": 27,
   "metadata": {},
   "outputs": [
    {
     "data": {
      "text/html": [
       "<div>\n",
       "<style scoped>\n",
       "    .dataframe tbody tr th:only-of-type {\n",
       "        vertical-align: middle;\n",
       "    }\n",
       "\n",
       "    .dataframe tbody tr th {\n",
       "        vertical-align: top;\n",
       "    }\n",
       "\n",
       "    .dataframe thead th {\n",
       "        text-align: right;\n",
       "    }\n",
       "</style>\n",
       "<table border=\"1\" class=\"dataframe\">\n",
       "  <thead>\n",
       "    <tr style=\"text-align: right;\">\n",
       "      <th></th>\n",
       "      <th>Player</th>\n",
       "      <th>Position</th>\n",
       "      <th>Height</th>\n",
       "      <th>Weight</th>\n",
       "    </tr>\n",
       "  </thead>\n",
       "  <tbody>\n",
       "    <tr>\n",
       "      <th>0</th>\n",
       "      <td>Tony Amonte</td>\n",
       "      <td>RW</td>\n",
       "      <td>72</td>\n",
       "      <td>202</td>\n",
       "    </tr>\n",
       "    <tr>\n",
       "      <th>1</th>\n",
       "      <td>Glenn Anderson</td>\n",
       "      <td>RW</td>\n",
       "      <td>73</td>\n",
       "      <td>190</td>\n",
       "    </tr>\n",
       "    <tr>\n",
       "      <th>2</th>\n",
       "      <td>Phil Bourque</td>\n",
       "      <td>LW</td>\n",
       "      <td>73</td>\n",
       "      <td>196</td>\n",
       "    </tr>\n",
       "    <tr>\n",
       "      <th>3</th>\n",
       "      <td>Mike Gartner</td>\n",
       "      <td>RW</td>\n",
       "      <td>72</td>\n",
       "      <td>190</td>\n",
       "    </tr>\n",
       "    <tr>\n",
       "      <th>4</th>\n",
       "      <td>Greg Gilbert</td>\n",
       "      <td>LW</td>\n",
       "      <td>73</td>\n",
       "      <td>195</td>\n",
       "    </tr>\n",
       "    <tr>\n",
       "      <th>5</th>\n",
       "      <td>Adam Graves</td>\n",
       "      <td>LW</td>\n",
       "      <td>72</td>\n",
       "      <td>205</td>\n",
       "    </tr>\n",
       "    <tr>\n",
       "      <th>6</th>\n",
       "      <td>Mike Hartman</td>\n",
       "      <td>LW</td>\n",
       "      <td>72</td>\n",
       "      <td>190</td>\n",
       "    </tr>\n",
       "    <tr>\n",
       "      <th>7</th>\n",
       "      <td>Jim Hiller</td>\n",
       "      <td>RW</td>\n",
       "      <td>72</td>\n",
       "      <td>190</td>\n",
       "    </tr>\n",
       "    <tr>\n",
       "      <th>8</th>\n",
       "      <td>Mike Hudson</td>\n",
       "      <td>C</td>\n",
       "      <td>74</td>\n",
       "      <td>205</td>\n",
       "    </tr>\n",
       "    <tr>\n",
       "      <th>9</th>\n",
       "      <td>Joey Kocur</td>\n",
       "      <td>RW</td>\n",
       "      <td>72</td>\n",
       "      <td>222</td>\n",
       "    </tr>\n",
       "    <tr>\n",
       "      <th>10</th>\n",
       "      <td>Alex Kovalev</td>\n",
       "      <td>RW</td>\n",
       "      <td>74</td>\n",
       "      <td>222</td>\n",
       "    </tr>\n",
       "    <tr>\n",
       "      <th>11</th>\n",
       "      <td>Nick Kypreos</td>\n",
       "      <td>LW</td>\n",
       "      <td>72</td>\n",
       "      <td>210</td>\n",
       "    </tr>\n",
       "    <tr>\n",
       "      <th>12</th>\n",
       "      <td>Daniel Lacroix</td>\n",
       "      <td>C</td>\n",
       "      <td>74</td>\n",
       "      <td>205</td>\n",
       "    </tr>\n",
       "    <tr>\n",
       "      <th>13</th>\n",
       "      <td>Steve Larmer</td>\n",
       "      <td>RW</td>\n",
       "      <td>71</td>\n",
       "      <td>195</td>\n",
       "    </tr>\n",
       "    <tr>\n",
       "      <th>14</th>\n",
       "      <td>Craig MacTavish</td>\n",
       "      <td>C</td>\n",
       "      <td>73</td>\n",
       "      <td>200</td>\n",
       "    </tr>\n",
       "    <tr>\n",
       "      <th>15</th>\n",
       "      <td>Todd Marchant</td>\n",
       "      <td>C</td>\n",
       "      <td>70</td>\n",
       "      <td>180</td>\n",
       "    </tr>\n",
       "    <tr>\n",
       "      <th>16</th>\n",
       "      <td>Stephane Matteau</td>\n",
       "      <td>LW</td>\n",
       "      <td>76</td>\n",
       "      <td>220</td>\n",
       "    </tr>\n",
       "    <tr>\n",
       "      <th>17</th>\n",
       "      <td>Mark Messier</td>\n",
       "      <td>C</td>\n",
       "      <td>74</td>\n",
       "      <td>211</td>\n",
       "    </tr>\n",
       "    <tr>\n",
       "      <th>18</th>\n",
       "      <td>Sergei Nemchinov</td>\n",
       "      <td>LW</td>\n",
       "      <td>73</td>\n",
       "      <td>205</td>\n",
       "    </tr>\n",
       "    <tr>\n",
       "      <th>19</th>\n",
       "      <td>Brian Noonan</td>\n",
       "      <td>RW</td>\n",
       "      <td>73</td>\n",
       "      <td>200</td>\n",
       "    </tr>\n",
       "    <tr>\n",
       "      <th>20</th>\n",
       "      <td>Eddie Olczyk</td>\n",
       "      <td>RW</td>\n",
       "      <td>73</td>\n",
       "      <td>207</td>\n",
       "    </tr>\n",
       "    <tr>\n",
       "      <th>21</th>\n",
       "      <td>Esa Tikkanen</td>\n",
       "      <td>LW</td>\n",
       "      <td>73</td>\n",
       "      <td>200</td>\n",
       "    </tr>\n",
       "    <tr>\n",
       "      <th>22</th>\n",
       "      <td>Darren Turcotte</td>\n",
       "      <td>C</td>\n",
       "      <td>72</td>\n",
       "      <td>190</td>\n",
       "    </tr>\n",
       "    <tr>\n",
       "      <th>23</th>\n",
       "      <td>Peter Andersson</td>\n",
       "      <td>D</td>\n",
       "      <td>72</td>\n",
       "      <td>196</td>\n",
       "    </tr>\n",
       "    <tr>\n",
       "      <th>24</th>\n",
       "      <td>Jeff Beukeboom</td>\n",
       "      <td>D</td>\n",
       "      <td>77</td>\n",
       "      <td>230</td>\n",
       "    </tr>\n",
       "    <tr>\n",
       "      <th>25</th>\n",
       "      <td>Alexander Karpovtsev</td>\n",
       "      <td>D</td>\n",
       "      <td>75</td>\n",
       "      <td>221</td>\n",
       "    </tr>\n",
       "    <tr>\n",
       "      <th>26</th>\n",
       "      <td>Brian Leetch</td>\n",
       "      <td>D</td>\n",
       "      <td>72</td>\n",
       "      <td>190</td>\n",
       "    </tr>\n",
       "    <tr>\n",
       "      <th>27</th>\n",
       "      <td>Doug Lidster</td>\n",
       "      <td>D</td>\n",
       "      <td>73</td>\n",
       "      <td>200</td>\n",
       "    </tr>\n",
       "    <tr>\n",
       "      <th>28</th>\n",
       "      <td>Kevin Lowe</td>\n",
       "      <td>D</td>\n",
       "      <td>74</td>\n",
       "      <td>200</td>\n",
       "    </tr>\n",
       "    <tr>\n",
       "      <th>29</th>\n",
       "      <td>Joby Messier</td>\n",
       "      <td>D</td>\n",
       "      <td>73</td>\n",
       "      <td>207</td>\n",
       "    </tr>\n",
       "    <tr>\n",
       "      <th>30</th>\n",
       "      <td>Mattias Norstrom</td>\n",
       "      <td>D</td>\n",
       "      <td>74</td>\n",
       "      <td>210</td>\n",
       "    </tr>\n",
       "    <tr>\n",
       "      <th>31</th>\n",
       "      <td>James Patrick</td>\n",
       "      <td>D</td>\n",
       "      <td>74</td>\n",
       "      <td>198</td>\n",
       "    </tr>\n",
       "    <tr>\n",
       "      <th>32</th>\n",
       "      <td>Jay Wells</td>\n",
       "      <td>D</td>\n",
       "      <td>73</td>\n",
       "      <td>210</td>\n",
       "    </tr>\n",
       "    <tr>\n",
       "      <th>33</th>\n",
       "      <td>Sergei Zubov *</td>\n",
       "      <td>D</td>\n",
       "      <td>73</td>\n",
       "      <td>198</td>\n",
       "    </tr>\n",
       "    <tr>\n",
       "      <th>34</th>\n",
       "      <td>Glenn Healy</td>\n",
       "      <td>G</td>\n",
       "      <td>68</td>\n",
       "      <td>195</td>\n",
       "    </tr>\n",
       "    <tr>\n",
       "      <th>35</th>\n",
       "      <td>Mike Richter</td>\n",
       "      <td>G</td>\n",
       "      <td>70</td>\n",
       "      <td>190</td>\n",
       "    </tr>\n",
       "  </tbody>\n",
       "</table>\n",
       "</div>"
      ],
      "text/plain": [
       "                   Player Position  Height  Weight\n",
       "0            Tony Amonte        RW      72     202\n",
       "1         Glenn Anderson        RW      73     190\n",
       "2           Phil Bourque        LW      73     196\n",
       "3           Mike Gartner        RW      72     190\n",
       "4           Greg Gilbert        LW      73     195\n",
       "5            Adam Graves        LW      72     205\n",
       "6           Mike Hartman        LW      72     190\n",
       "7             Jim Hiller        RW      72     190\n",
       "8            Mike Hudson         C      74     205\n",
       "9             Joey Kocur        RW      72     222\n",
       "10          Alex Kovalev        RW      74     222\n",
       "11          Nick Kypreos        LW      72     210\n",
       "12        Daniel Lacroix         C      74     205\n",
       "13          Steve Larmer        RW      71     195\n",
       "14       Craig MacTavish         C      73     200\n",
       "15         Todd Marchant         C      70     180\n",
       "16      Stephane Matteau        LW      76     220\n",
       "17          Mark Messier         C      74     211\n",
       "18      Sergei Nemchinov        LW      73     205\n",
       "19          Brian Noonan        RW      73     200\n",
       "20          Eddie Olczyk        RW      73     207\n",
       "21          Esa Tikkanen        LW      73     200\n",
       "22       Darren Turcotte         C      72     190\n",
       "23       Peter Andersson         D      72     196\n",
       "24        Jeff Beukeboom         D      77     230\n",
       "25  Alexander Karpovtsev         D      75     221\n",
       "26          Brian Leetch         D      72     190\n",
       "27          Doug Lidster         D      73     200\n",
       "28            Kevin Lowe         D      74     200\n",
       "29          Joby Messier         D      73     207\n",
       "30      Mattias Norstrom         D      74     210\n",
       "31         James Patrick         D      74     198\n",
       "32             Jay Wells         D      73     210\n",
       "33         Sergei Zubov *        D      73     198\n",
       "34           Glenn Healy         G      68     195\n",
       "35          Mike Richter         G      70     190"
      ]
     },
     "execution_count": 27,
     "metadata": {},
     "output_type": "execute_result"
    }
   ],
   "source": [
    "csv_a = csv.reader(a)\n",
    "df = pd.read_csv(\"NYR1994.csv\")\n",
    "df.head(40)"
   ]
  },
  {
   "cell_type": "markdown",
   "metadata": {},
   "source": [
    "### 2018 New York Rangers"
   ]
  },
  {
   "cell_type": "code",
   "execution_count": 28,
   "metadata": {},
   "outputs": [],
   "source": [
    "### use the reader function to allow iteration over each row in the data set.\n",
    "### Next, the 2018 team. Below is the data set displayed by using the df.head() function."
   ]
  },
  {
   "cell_type": "code",
   "execution_count": 29,
   "metadata": {},
   "outputs": [
    {
     "data": {
      "text/html": [
       "<div>\n",
       "<style scoped>\n",
       "    .dataframe tbody tr th:only-of-type {\n",
       "        vertical-align: middle;\n",
       "    }\n",
       "\n",
       "    .dataframe tbody tr th {\n",
       "        vertical-align: top;\n",
       "    }\n",
       "\n",
       "    .dataframe thead th {\n",
       "        text-align: right;\n",
       "    }\n",
       "</style>\n",
       "<table border=\"1\" class=\"dataframe\">\n",
       "  <thead>\n",
       "    <tr style=\"text-align: right;\">\n",
       "      <th></th>\n",
       "      <th>Player</th>\n",
       "      <th>Position</th>\n",
       "      <th>Height</th>\n",
       "      <th>Weight</th>\n",
       "    </tr>\n",
       "  </thead>\n",
       "  <tbody>\n",
       "    <tr>\n",
       "      <th>0</th>\n",
       "      <td>Lias Andersson</td>\n",
       "      <td>C</td>\n",
       "      <td>73</td>\n",
       "      <td>204</td>\n",
       "    </tr>\n",
       "    <tr>\n",
       "      <th>1</th>\n",
       "      <td>Matt Beleskey</td>\n",
       "      <td>LW</td>\n",
       "      <td>72</td>\n",
       "      <td>207</td>\n",
       "    </tr>\n",
       "    <tr>\n",
       "      <th>2</th>\n",
       "      <td>Pavel Buchnevich</td>\n",
       "      <td>RW</td>\n",
       "      <td>75</td>\n",
       "      <td>196</td>\n",
       "    </tr>\n",
       "    <tr>\n",
       "      <th>3</th>\n",
       "      <td>Paul Carey</td>\n",
       "      <td>C</td>\n",
       "      <td>73</td>\n",
       "      <td>200</td>\n",
       "    </tr>\n",
       "    <tr>\n",
       "      <th>4</th>\n",
       "      <td>Daniel Catenacci</td>\n",
       "      <td>C</td>\n",
       "      <td>70</td>\n",
       "      <td>193</td>\n",
       "    </tr>\n",
       "    <tr>\n",
       "      <th>5</th>\n",
       "      <td>Filip Chytil</td>\n",
       "      <td>C</td>\n",
       "      <td>74</td>\n",
       "      <td>208</td>\n",
       "    </tr>\n",
       "    <tr>\n",
       "      <th>6</th>\n",
       "      <td>Adam Cracknell</td>\n",
       "      <td>RW</td>\n",
       "      <td>75</td>\n",
       "      <td>209</td>\n",
       "    </tr>\n",
       "    <tr>\n",
       "      <th>7</th>\n",
       "      <td>David Desharnais</td>\n",
       "      <td>C</td>\n",
       "      <td>67</td>\n",
       "      <td>180</td>\n",
       "    </tr>\n",
       "    <tr>\n",
       "      <th>8</th>\n",
       "      <td>Jesper Fast (A)</td>\n",
       "      <td>RW</td>\n",
       "      <td>73</td>\n",
       "      <td>192</td>\n",
       "    </tr>\n",
       "    <tr>\n",
       "      <th>9</th>\n",
       "      <td>Steven Fogarty</td>\n",
       "      <td>C</td>\n",
       "      <td>75</td>\n",
       "      <td>210</td>\n",
       "    </tr>\n",
       "    <tr>\n",
       "      <th>10</th>\n",
       "      <td>Michael Grabner</td>\n",
       "      <td>RW</td>\n",
       "      <td>73</td>\n",
       "      <td>188</td>\n",
       "    </tr>\n",
       "    <tr>\n",
       "      <th>11</th>\n",
       "      <td>Kevin Hayes</td>\n",
       "      <td>C</td>\n",
       "      <td>77</td>\n",
       "      <td>216</td>\n",
       "    </tr>\n",
       "    <tr>\n",
       "      <th>12</th>\n",
       "      <td>Peter Holland</td>\n",
       "      <td>C</td>\n",
       "      <td>74</td>\n",
       "      <td>193</td>\n",
       "    </tr>\n",
       "    <tr>\n",
       "      <th>13</th>\n",
       "      <td>Chris Kreider (A)</td>\n",
       "      <td>LW</td>\n",
       "      <td>75</td>\n",
       "      <td>216</td>\n",
       "    </tr>\n",
       "    <tr>\n",
       "      <th>14</th>\n",
       "      <td>Vinni Lettieri</td>\n",
       "      <td>C</td>\n",
       "      <td>71</td>\n",
       "      <td>191</td>\n",
       "    </tr>\n",
       "    <tr>\n",
       "      <th>15</th>\n",
       "      <td>Cody McLeod</td>\n",
       "      <td>LW</td>\n",
       "      <td>74</td>\n",
       "      <td>204</td>\n",
       "    </tr>\n",
       "    <tr>\n",
       "      <th>16</th>\n",
       "      <td>J.T. Miller</td>\n",
       "      <td>C</td>\n",
       "      <td>73</td>\n",
       "      <td>218</td>\n",
       "    </tr>\n",
       "    <tr>\n",
       "      <th>17</th>\n",
       "      <td>Vladislav Namestnikov</td>\n",
       "      <td>C</td>\n",
       "      <td>72</td>\n",
       "      <td>184</td>\n",
       "    </tr>\n",
       "    <tr>\n",
       "      <th>18</th>\n",
       "      <td>Rick Nash</td>\n",
       "      <td>LW</td>\n",
       "      <td>76</td>\n",
       "      <td>211</td>\n",
       "    </tr>\n",
       "    <tr>\n",
       "      <th>19</th>\n",
       "      <td>Boo Nieves</td>\n",
       "      <td>C</td>\n",
       "      <td>75</td>\n",
       "      <td>210</td>\n",
       "    </tr>\n",
       "    <tr>\n",
       "      <th>20</th>\n",
       "      <td>Ryan Spooner</td>\n",
       "      <td>C</td>\n",
       "      <td>71</td>\n",
       "      <td>191</td>\n",
       "    </tr>\n",
       "    <tr>\n",
       "      <th>21</th>\n",
       "      <td>Jimmy Vesey</td>\n",
       "      <td>LW</td>\n",
       "      <td>75</td>\n",
       "      <td>199</td>\n",
       "    </tr>\n",
       "    <tr>\n",
       "      <th>22</th>\n",
       "      <td>Mika Zibanejad (A)</td>\n",
       "      <td>C</td>\n",
       "      <td>74</td>\n",
       "      <td>213</td>\n",
       "    </tr>\n",
       "    <tr>\n",
       "      <th>23</th>\n",
       "      <td>Mats Zuccarello (A)</td>\n",
       "      <td>RW</td>\n",
       "      <td>68</td>\n",
       "      <td>184</td>\n",
       "    </tr>\n",
       "    <tr>\n",
       "      <th>24</th>\n",
       "      <td>Tony DeAngelo</td>\n",
       "      <td>D</td>\n",
       "      <td>71</td>\n",
       "      <td>180</td>\n",
       "    </tr>\n",
       "    <tr>\n",
       "      <th>25</th>\n",
       "      <td>John Gilmour</td>\n",
       "      <td>D</td>\n",
       "      <td>72</td>\n",
       "      <td>190</td>\n",
       "    </tr>\n",
       "    <tr>\n",
       "      <th>26</th>\n",
       "      <td>Nick Holden</td>\n",
       "      <td>D</td>\n",
       "      <td>76</td>\n",
       "      <td>214</td>\n",
       "    </tr>\n",
       "    <tr>\n",
       "      <th>27</th>\n",
       "      <td>Steven Kampfer</td>\n",
       "      <td>D</td>\n",
       "      <td>71</td>\n",
       "      <td>198</td>\n",
       "    </tr>\n",
       "    <tr>\n",
       "      <th>28</th>\n",
       "      <td>Ryan McDonagh</td>\n",
       "      <td>D</td>\n",
       "      <td>73</td>\n",
       "      <td>215</td>\n",
       "    </tr>\n",
       "    <tr>\n",
       "      <th>29</th>\n",
       "      <td>Rob O'Gara</td>\n",
       "      <td>D</td>\n",
       "      <td>76</td>\n",
       "      <td>214</td>\n",
       "    </tr>\n",
       "    <tr>\n",
       "      <th>30</th>\n",
       "      <td>Neal Pionk</td>\n",
       "      <td>D</td>\n",
       "      <td>72</td>\n",
       "      <td>186</td>\n",
       "    </tr>\n",
       "    <tr>\n",
       "      <th>31</th>\n",
       "      <td>Kevin Shattenkirk</td>\n",
       "      <td>D</td>\n",
       "      <td>72</td>\n",
       "      <td>206</td>\n",
       "    </tr>\n",
       "    <tr>\n",
       "      <th>32</th>\n",
       "      <td>Brady Skjei</td>\n",
       "      <td>D</td>\n",
       "      <td>75</td>\n",
       "      <td>214</td>\n",
       "    </tr>\n",
       "    <tr>\n",
       "      <th>33</th>\n",
       "      <td>Brendan Smith</td>\n",
       "      <td>D</td>\n",
       "      <td>74</td>\n",
       "      <td>195</td>\n",
       "    </tr>\n",
       "    <tr>\n",
       "      <th>34</th>\n",
       "      <td>Ryan Sproul</td>\n",
       "      <td>D</td>\n",
       "      <td>76</td>\n",
       "      <td>205</td>\n",
       "    </tr>\n",
       "    <tr>\n",
       "      <th>35</th>\n",
       "      <td>Marc Staal (A)</td>\n",
       "      <td>D</td>\n",
       "      <td>76</td>\n",
       "      <td>213</td>\n",
       "    </tr>\n",
       "    <tr>\n",
       "      <th>36</th>\n",
       "      <td>Alexandar Georgiev</td>\n",
       "      <td>G</td>\n",
       "      <td>73</td>\n",
       "      <td>179</td>\n",
       "    </tr>\n",
       "    <tr>\n",
       "      <th>37</th>\n",
       "      <td>Brandon Halverson</td>\n",
       "      <td>G</td>\n",
       "      <td>76</td>\n",
       "      <td>210</td>\n",
       "    </tr>\n",
       "    <tr>\n",
       "      <th>38</th>\n",
       "      <td>Henrik Lundqvist</td>\n",
       "      <td>G</td>\n",
       "      <td>73</td>\n",
       "      <td>180</td>\n",
       "    </tr>\n",
       "    <tr>\n",
       "      <th>39</th>\n",
       "      <td>Ondrej Pavelec</td>\n",
       "      <td>G</td>\n",
       "      <td>75</td>\n",
       "      <td>212</td>\n",
       "    </tr>\n",
       "  </tbody>\n",
       "</table>\n",
       "</div>"
      ],
      "text/plain": [
       "                    Player Position  Height  Weight\n",
       "0          Lias Andersson         C      73     204\n",
       "1           Matt Beleskey        LW      72     207\n",
       "2        Pavel Buchnevich        RW      75     196\n",
       "3              Paul Carey         C      73     200\n",
       "4        Daniel Catenacci         C      70     193\n",
       "5            Filip Chytil         C      74     208\n",
       "6          Adam Cracknell        RW      75     209\n",
       "7        David Desharnais         C      67     180\n",
       "8          Jesper Fast (A)       RW      73     192\n",
       "9          Steven Fogarty         C      75     210\n",
       "10        Michael Grabner        RW      73     188\n",
       "11            Kevin Hayes         C      77     216\n",
       "12          Peter Holland         C      74     193\n",
       "13       Chris Kreider (A)       LW      75     216\n",
       "14         Vinni Lettieri         C      71     191\n",
       "15            Cody McLeod        LW      74     204\n",
       "16            J.T. Miller         C      73     218\n",
       "17  Vladislav Namestnikov         C      72     184\n",
       "18              Rick Nash        LW      76     211\n",
       "19             Boo Nieves         C      75     210\n",
       "20           Ryan Spooner         C      71     191\n",
       "21            Jimmy Vesey        LW      75     199\n",
       "22      Mika Zibanejad (A)        C      74     213\n",
       "23     Mats Zuccarello (A)       RW      68     184\n",
       "24          Tony DeAngelo         D      71     180\n",
       "25           John Gilmour         D      72     190\n",
       "26            Nick Holden         D      76     214\n",
       "27         Steven Kampfer         D      71     198\n",
       "28          Ryan McDonagh         D      73     215\n",
       "29             Rob O'Gara         D      76     214\n",
       "30             Neal Pionk         D      72     186\n",
       "31      Kevin Shattenkirk         D      72     206\n",
       "32            Brady Skjei         D      75     214\n",
       "33          Brendan Smith         D      74     195\n",
       "34            Ryan Sproul         D      76     205\n",
       "35          Marc Staal (A)        D      76     213\n",
       "36     Alexandar Georgiev         G      73     179\n",
       "37      Brandon Halverson         G      76     210\n",
       "38       Henrik Lundqvist         G      73     180\n",
       "39         Ondrej Pavelec         G      75     212"
      ]
     },
     "execution_count": 29,
     "metadata": {},
     "output_type": "execute_result"
    }
   ],
   "source": [
    "csv_b = csv.reader(b)\n",
    "df1 = pd.read_csv(\"NYR2018.csv\")\n",
    "df1.head(40)"
   ]
  },
  {
   "cell_type": "markdown",
   "metadata": {},
   "source": [
    "### 1994 New York Rangers Height vs 2018 New York Rangers Height"
   ]
  },
  {
   "cell_type": "code",
   "execution_count": 30,
   "metadata": {},
   "outputs": [],
   "source": [
    "### the first box plot is the Height variable.\n",
    "### this was created using sns.boxplot function.\n",
    "### I was able to adjust the size of the plot by using the fig=plt.gct() and fig.set_size_inches()function. (G)\n",
    "### Note, this format will be used for all box plots in this notebook."
   ]
  },
  {
   "cell_type": "code",
   "execution_count": 31,
   "metadata": {},
   "outputs": [
    {
     "data": {
      "image/png": "[encoded data removed]",
      "text/plain": [
       "<Figure size 720x360 with 1 Axes>"
      ]
     },
     "metadata": {},
     "output_type": "display_data"
    }
   ],
   "source": [
    "sns.boxplot( df[\"Height\"] ).set_title('New York Rangers 1994 (height is in inches)')\n",
    "fig = plt.gcf()\n",
    "fig.set_size_inches( 10,5)"
   ]
  },
  {
   "cell_type": "markdown",
   "metadata": {},
   "source": [
    "The Height box plot for the 1994 team appears to have a median height of approximately 73 inches (6'1). The majority (approx. 75%) of players are 72 inches (6ft) or taller. Ignoring outliers, the shortest player(s) was 70 inches (5'10) and the tallest player(s) was approximately 77 inches (6'5)."
   ]
  },
  {
   "cell_type": "code",
   "execution_count": null,
   "metadata": {},
   "outputs": [],
   "source": [
    "### using the same tools for the 1994 team height box plot, I do the same for the 2018 team height box plot. \n",
    "### data set (NYR2018.csv) = df1."
   ]
  },
  {
   "cell_type": "code",
   "execution_count": 20,
   "metadata": {},
   "outputs": [
    {
     "data": {
      "image/png": "[encoded data removed]",
      "text/plain": [
       "<Figure size 720x360 with 1 Axes>"
      ]
     },
     "metadata": {},
     "output_type": "display_data"
    }
   ],
   "source": [
    "sns.boxplot( df1[\"Height\"] ).set_title('New York Rangers 2018 (height is in inches)')\n",
    "fig = plt.gcf()\n",
    "fig.set_size_inches( 10,5)"
   ]
  },
  {
   "cell_type": "markdown",
   "metadata": {},
   "source": [
    "The Height box plot for the 2018 team appears to have a median height of approximately 73.5 inches (6'1 1/2). The majority (approx. 75%) of players are 72 inches (6ft) or taller. Ignoring outliers, the shortest player(s) was 68 inches (5'8) and the tallest player(s) was approximately 77 inches (6'5)."
   ]
  },
  {
   "cell_type": "markdown",
   "metadata": {},
   "source": [
    "### Initial Height Conclusion\n",
    "***"
   ]
  },
  {
   "cell_type": "markdown",
   "metadata": {},
   "source": [
    "Just looking at these two height box plots doesn't seem to be leading to the \"players are bigger\" conclusion. The 2018 has a slightly bigger median of 1/2 inch. However, when you ignore the outliers, the 1994 team shortest height was 70 inches compared to the 2018 shortest height of 68 inches. The box plots don't scream out at a huge difference. So the \"players are bigger\" may not lie in the height of the players but in their weights, which we look at next."
   ]
  },
  {
   "cell_type": "markdown",
   "metadata": {},
   "source": [
    "### 1994 New York Rangers Weight vs 2018 New York Rangers Weight"
   ]
  },
  {
   "cell_type": "code",
   "execution_count": null,
   "metadata": {},
   "outputs": [],
   "source": [
    "### this was created using sns.boxplot function.\n",
    "### I was able to adjust the size of the plot by using the fig=plt.gct() and fig.set_size_inches()function. (G)"
   ]
  },
  {
   "cell_type": "code",
   "execution_count": 32,
   "metadata": {},
   "outputs": [
    {
     "data": {
      "image/png": "[encoded data removed]",
      "text/plain": [
       "<Figure size 720x360 with 1 Axes>"
      ]
     },
     "metadata": {},
     "output_type": "display_data"
    }
   ],
   "source": [
    "sns.boxplot( df[\"Weight\"] ).set_title('New York Rangers 1994 (weight in pounds)')\n",
    "fig = plt.gcf()\n",
    "fig.set_size_inches( 10,5)"
   ]
  },
  {
   "cell_type": "markdown",
   "metadata": {},
   "source": [
    "The Weight box plot for the 1994 team appears to have a median weight of approximately 200 lbs. The majority (approx. 75%) of players are approximately 195 lbs or heavier. The lightest player(s) is 180 lbs while the heaviest (ignoring the outlier) player(s) is about 222 lbs."
   ]
  },
  {
   "cell_type": "code",
   "execution_count": null,
   "metadata": {},
   "outputs": [],
   "source": [
    "### this was created using sns.boxplot function.\n",
    "### I was able to adjust the size of the plot by using the fig=plt.gct() and fig.set_size_inches()function. (G)"
   ]
  },
  {
   "cell_type": "code",
   "execution_count": 34,
   "metadata": {},
   "outputs": [
    {
     "data": {
      "image/png": "[encoded data removed]",
      "text/plain": [
       "<Figure size 720x360 with 1 Axes>"
      ]
     },
     "metadata": {},
     "output_type": "display_data"
    }
   ],
   "source": [
    "sns.boxplot( df1[\"Weight\"] ).set_title('New York Rangers 2018 (weight in pounds)')\n",
    "fig = plt.gcf()\n",
    "fig.set_size_inches( 10,5)"
   ]
  },
  {
   "cell_type": "markdown",
   "metadata": {},
   "source": [
    "The Weight box plot for the 2018 team appears to have a median weight of approximately 204 lbs. The majority (approx. 75%) of players are approximately 192 lbs or heavier. The lightest player(s) is about 178 lbs while the heaviest player(s) is about 220 lbs."
   ]
  },
  {
   "cell_type": "markdown",
   "metadata": {},
   "source": [
    "### Initial Weight Conclusion\n",
    "***"
   ]
  },
  {
   "cell_type": "markdown",
   "metadata": {},
   "source": [
    "The 2018 team has a slightly heavier median at 204 lbs compared to the 1994 team median of 200 lbs. Not a huge difference but slightly heavier. The 1994 team's lightest player was 180 lbs compared to approxiamtely 178 lbs for the 2018 team. The heaviest weight for the 1994 team was approximately 222 lbs (ignoring the outlier) compared to approximately 220 lbs of the 2018 team. "
   ]
  },
  {
   "cell_type": "markdown",
   "metadata": {},
   "source": [
    "### Initial Conclusion\n",
    "***"
   ]
  },
  {
   "cell_type": "markdown",
   "metadata": {},
   "source": [
    "The heights and weights for both teams don't seem to differ that much as to be able to declare that players are indeed getting bigger. Without delving deeper into the data, I would not be confident to declare that today's players are certainly bigger than those of 24 years ago.\n",
    "\n",
    "In order to look into this more deeply, I will combine both data sets into one data set (NYR.csv) and call it df2. This will enable me to compare both sets of players by position which should give me a good look at height/weight differences between today's players vs 24 years ago players."
   ]
  },
  {
   "cell_type": "markdown",
   "metadata": {},
   "source": [
    "### 1994 New York Rangers vs 2018 New York Rangers Height by Position\n",
    "***"
   ]
  },
  {
   "cell_type": "code",
   "execution_count": null,
   "metadata": {},
   "outputs": [],
   "source": [
    "### this was created using sns.boxplot function. The hue is added in order to separate the 1994 team from the 2018 team.\n",
    "### I was able to adjust the size of the plot by using the fig=plt.gct() and fig.set_size_inches()function. (G)\n",
    "### the size of the plot was increased in order to better represent the data."
   ]
  },
  {
   "cell_type": "code",
   "execution_count": 94,
   "metadata": {},
   "outputs": [
    {
     "data": {
      "image/png": "[encoded data removed]",
      "text/plain": [
       "<Figure size 1440x720 with 1 Axes>"
      ]
     },
     "metadata": {},
     "output_type": "display_data"
    }
   ],
   "source": [
    "sns.boxplot(x='Height', y='Position', data=df2, hue='Team')\n",
    "fig = plt.gcf()\n",
    "fig.set_size_inches( 20,10)"
   ]
  },
  {
   "cell_type": "markdown",
   "metadata": {},
   "source": [
    "This is very interesting. When looking at the breakdown by position, it certainly seems to indicate that the 2018 team is taller than the 1994 team in every position except for Center (C). In every other position, the 2018 median height is equal to or greater than the median height of the 1994 team positions. Let's take a look at the weight box plot."
   ]
  },
  {
   "cell_type": "markdown",
   "metadata": {},
   "source": [
    "### 1994 New York Rangers vs 2018 New York Rangers Weight by Position\n",
    "***"
   ]
  },
  {
   "cell_type": "code",
   "execution_count": null,
   "metadata": {},
   "outputs": [],
   "source": [
    "### this was created using sns.boxplot function. The hue is added in order to separate the 1994 team from the 2018 team.\n",
    "### I was able to adjust the size of the plot by using the fig=plt.gct() and fig.set_size_inches()function. (G)\n",
    "### the size of the plot was increased in order to better represent the data."
   ]
  },
  {
   "cell_type": "code",
   "execution_count": 95,
   "metadata": {},
   "outputs": [
    {
     "data": {
      "image/png": "[encoded data removed]",
      "text/plain": [
       "<Figure size 1440x720 with 1 Axes>"
      ]
     },
     "metadata": {},
     "output_type": "display_data"
    }
   ],
   "source": [
    "sns.boxplot(x='Weight', y='Position', data=df2, hue='Team')\n",
    "fig = plt.gcf()\n",
    "fig.set_size_inches( 20,10)"
   ]
  },
  {
   "cell_type": "markdown",
   "metadata": {},
   "source": [
    "The median weight of the 2018 team is greater than the 1994 team in 3 positions (LW, D, G). The median for the Center (c) position is only slightly lighter for the 2018 and the median for the Right Wing (RW) position is showing a fairly significant difference of about 8 lbs. "
   ]
  },
  {
   "cell_type": "markdown",
   "metadata": {},
   "source": [
    "### Final Conclusion\n",
    "***"
   ]
  },
  {
   "cell_type": "markdown",
   "metadata": {},
   "source": [
    "Thanks to the last box plot, I can confidently say that the 2018 team players are bigger than the 1994 players. However, that being said, the differences were not jaw dropping differences. The differences shown here should not make it seem that today's players are significantly bigger than those plyaers of 24 years ago. I'm not sure why it it constantly reiterated across the hockey media. Maybe HD tv causes players to look bigger, maybe the players are wearing bigger padding or maybe the training and nutrition are better today giving today's players better physiques.\n",
    "Agian, this was just a sample from one team to try to get an idea of the differences in today's players vs players from 24 years ago. My sample size needs to include all the players from 24 years ago compared to all the players of today in order to get a better idea. Or better yet, get a data set from players from 50 years ago and compare it to today's players.\n"
   ]
  },
  {
   "cell_type": "markdown",
   "metadata": {},
   "source": [
    "### Alternatives to box plots\n",
    "***"
   ]
  },
  {
   "cell_type": "code",
   "execution_count": null,
   "metadata": {},
   "outputs": [],
   "source": []
  },
  {
   "cell_type": "code",
   "execution_count": null,
   "metadata": {},
   "outputs": [],
   "source": []
  },
  {
   "cell_type": "code",
   "execution_count": null,
   "metadata": {},
   "outputs": [],
   "source": []
  },
  {
   "cell_type": "code",
   "execution_count": null,
   "metadata": {},
   "outputs": [],
   "source": []
  },
  {
   "cell_type": "code",
   "execution_count": null,
   "metadata": {},
   "outputs": [],
   "source": []
  },
  {
   "cell_type": "code",
   "execution_count": null,
   "metadata": {},
   "outputs": [],
   "source": []
  },
  {
   "cell_type": "code",
   "execution_count": null,
   "metadata": {},
   "outputs": [],
   "source": []
  },
  {
   "cell_type": "code",
   "execution_count": null,
   "metadata": {},
   "outputs": [],
   "source": []
  },
  {
   "cell_type": "code",
   "execution_count": null,
   "metadata": {},
   "outputs": [],
   "source": []
  },
  {
   "cell_type": "code",
   "execution_count": null,
   "metadata": {},
   "outputs": [],
   "source": [
    "##References\n",
    "***\n",
    "A. https://www.researchgate.net/publication/38348852_John_W_Tukey_His_life_and_professional_contributions\n",
    "B. https://www.lexjansen.com/pharmasug/2004/StatisticsPharmacokinetics/SP09.pdf \n",
    "C. https://help.qlik.com/en-US/sense/September2017/Subsystems/Hub/Content/Visualizations/BoxPlot/when-to-use-box-plot.htm    \n",
    "1. https://flowingdata.com/2011/12/06/40-years-of-boxplots/\n",
    "D. https://www.infinityqs.com/blog/july-2017/box-and-whisker-charts-help-improve-manufacturing\n",
    "E. https://www.open.edu/openlearn/ocw/mod/oucontent/view.php?printable=1&id=4089\n",
    "F. https://www.investing.com/analysis/cutting-through-market-noise-with-boxplots-190669\n",
    "G. https://stackoverflow.com/questions/51502927/adjusting-size-of-seaborn-plot    \n",
    "2. https://community.jmp.com/t5/JMP-Blog/Celebrating-Statisticians-John-W-Tukey/ba-p/30349   \n",
    "3. https://community.jmp.com/t5/JMP-Blog/Celebrating-Statisticians-John-W-Tukey/ba-p/30349\n",
    "4. https://public.credoreference.com/content/topic/box_plot   \n",
    "5. https://chartio.com/resources/tutorials/what-is-a-box-plot/ \n",
    "5.5 https://www.leansigmacorporation.com/box-plot-with-minitab/ \n",
    "5.55 https://www.purplemath.com/modules/boxwhisk3.htm    \n",
    "5.6 https://www.youtube.com/watch?v=4Li5-AU7-yA    \n",
    "6. https://www.ck12.org/statistics/applications-of-box-and-whisker-plots/rwa/Counting-Coral/  \n",
    "7. http://census.ie/in-history/population-of-ireland-1841-2006/\n",
    "8. https://stackoverflow.com/questions/51502927/adjusting-size-of-seaborn-plot    "
   ]
  },
  {
   "cell_type": "code",
   "execution_count": null,
   "metadata": {},
   "outputs": [],
   "source": []
  }
 ],
 "metadata": {
  "kernelspec": {
   "display_name": "Python 3",
   "language": "python",
   "name": "python3"
  },
  "language_info": {
   "codemirror_mode": {
    "name": "ipython",
    "version": 3
   },
   "file_extension": ".py",
   "mimetype": "text/x-python",
   "name": "python",
   "nbconvert_exporter": "python",
   "pygments_lexer": "ipython3",
   "version": "3.6.5"
  }
 },
 "nbformat": 4,
 "nbformat_minor": 2
}
